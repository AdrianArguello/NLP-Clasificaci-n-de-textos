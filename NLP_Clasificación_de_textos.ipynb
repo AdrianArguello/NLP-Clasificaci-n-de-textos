{
  "nbformat": 4,
  "nbformat_minor": 0,
  "metadata": {
    "colab": {
      "provenance": [],
      "authorship_tag": "ABX9TyO2DIbjPX73ohYrYIJAKQwB",
      "include_colab_link": true
    },
    "kernelspec": {
      "name": "python3",
      "display_name": "Python 3"
    },
    "language_info": {
      "name": "python"
    }
  },
  "cells": [
    {
      "cell_type": "markdown",
      "metadata": {
        "id": "view-in-github",
        "colab_type": "text"
      },
      "source": [
        "<a href=\"https://colab.research.google.com/github/AdrianArguello/NLP-Clasificaci-n-de-textos/blob/main/NLP_Clasificaci%C3%B3n_de_textos.ipynb\" target=\"_parent\"><img src=\"https://colab.research.google.com/assets/colab-badge.svg\" alt=\"Open In Colab\"/></a>"
      ]
    },
    {
      "cell_type": "markdown",
      "source": [
        "El objetivo de este proyecto es construir un modelo que clasifique textos como positivos o negativos, utilizando un enfoque de aprendizaje profundo y técnicas de procesamiento de lenguaje natural.La combinación de Tokenizer de Keras y NLTK para la preparación de datos y un perceptrón multicapa para la clasificación permite abordar problemas complejos en el análisis de sentimientos de manera eficiente.\n",
        "\n"
      ],
      "metadata": {
        "id": "8o1o6e4PMvmO"
      }
    },
    {
      "cell_type": "code",
      "source": [
        "#Frases a Clasificar#\n",
        "\n",
        "train = [('La nueva ley beneficiará a muchas familias', 'positivo'),\n",
        "('La corrupción sigue siendo un problema grave', 'negativo'),\n",
        "('Este candidato tiene un enfoque innovador', 'positivo'),\n",
        "('El desinterés por la política es alarmante', 'negativo'),\n",
        "('La participación ciudadana es fundamental para la democracia', 'positivo'),\n",
        "('La falta de transparencia en el gobierno es inaceptable', 'negativo'),\n",
        "('El gobierno está trabajando para mejorar la educación', 'positivo'),\n",
        "('Las promesas electorales no se cumplen', 'negativo'),\n",
        "('Estamos avanzando hacia un futuro sostenible', 'positivo'),\n",
        "('La violencia política está en aumento', 'negativo'),\n",
        "('La comunidad se une para el cambio', 'positivo'),\n",
        "('La desigualdad social se agrava', 'negativo'),\n",
        "('Las reformas propuestas son prometedoras', 'positivo'),\n",
        "('Los derechos humanos son violados constantemente', 'negativo'),\n",
        "('El diálogo es clave para resolver conflictos', 'positivo'),\n",
        "('El acceso a la justicia es limitado', 'negativo'),\n",
        "('La igualdad de derechos es un objetivo alcanzable', 'positivo'),\n",
        "('Las políticas de austeridad afectan a los más vulnerables', 'negativo'),\n",
        "('Las iniciativas de salud pública son un gran paso adelante', 'positivo'),\n",
        "('La falta de diálogo entre partidos es preocupante', 'negativo'),\n",
        "('Me encanta la energía de esta ciudad', 'positivo'),\n",
        "('La desinformación afecta la democracia', 'negativo'),\n",
        "('La rendición de cuentas genera confianza en el gobierno', 'positivo'),\n",
        "('Los derechos de las minorías son ignorados', 'negativo'),\n",
        "('La cultura y el arte son pilares de nuestra identidad', 'positivo'),\n",
        "('La represión de la oposición es un hecho', 'negativo'),\n",
        "('La innovación tecnológica puede transformar nuestra sociedad', 'positivo'),\n",
        "('El desempleo sigue en aumento', 'negativo'),\n",
        "('La seguridad ciudadana ha mejorado', 'positivo'),\n",
        "('La calidad de la educación ha disminuido', 'negativo'),\n",
        "('La comunidad está comprometida con el cambio', 'positivo'),\n",
        "('La infraestructura pública está en mal estado', 'negativo'),\n",
        "('El acceso a la información fortalece la democracia', 'positivo'),\n",
        "('La falta de participación ciudadana es preocupante', 'negativo'),\n",
        "('La protección del medio ambiente es una responsabilidad colectiva', 'positivo'),\n",
        "('La salud pública no recibe la atención necesaria', 'negativo'),\n",
        "('La promoción de la igualdad de género es un avance', 'positivo'),\n",
        "('La impunidad es un problema persistente', 'negativo'),\n",
        "('El compromiso con la justicia es un valor compartido', 'positivo'),\n",
        "('Las decisiones se toman sin consultar a la ciudadanía', 'negativo')]\n",
        "\n",
        "test = [('El nuevo programa social tiene un gran impacto', 'positivo'),\n",
        "('La falta de recursos para la salud pública es alarmante', 'negativo'),\n",
        "('La inversión en infraestructura beneficiará a todos', 'positivo'),\n",
        "('La falta de confianza en las instituciones es preocupante', 'negativo'),\n",
        "('La cooperación internacional es esencial para la paz', 'positivo'),\n",
        "('Las decisiones se toman sin transparencia', 'negativo'),\n",
        "('Las políticas de inclusión son fundamentales', 'positivo'),\n",
        "('Los ciudadanos sienten que su voz no es escuchada', 'negativo'),\n",
        "('La educación accesible es un derecho', 'positivo'),\n",
        "('La política se ha vuelto un campo de confrontación', 'negativo')]"
      ],
      "metadata": {
        "id": "YwpaXODgOJvT"
      },
      "execution_count": null,
      "outputs": []
    },
    {
      "cell_type": "code",
      "source": [
        "import warnings\n",
        "warnings.filterwarnings(\"ignore\")\n",
        "import re\n",
        "\n",
        "#Normalizamos#\n",
        "\n",
        "import nltk\n",
        "nltk.download('stopwords')\n",
        "\n",
        "def normalize(sentenses):\n",
        "    sen = []\n",
        "    for (words, sentiment) in sentenses:\n",
        "        words_filtered = []\n",
        "        for word in words.split():\n",
        "            # Eliminamos signos de puntuación y lo pasamos a minusculas\n",
        "            word = re.sub(r'[^\\w\\s]', '', word).lower()\n",
        "            # Filtramos stop words y las palabras con menos de 3 caracteres\n",
        "            if len(word) > 2 and word not in stopwords.words():\n",
        "                words_filtered.append(word)\n",
        "        sen.append(words_filtered)\n",
        "    return sen"
      ],
      "metadata": {
        "colab": {
          "base_uri": "https://localhost:8080/"
        },
        "id": "mapSVJdrSYaz",
        "outputId": "116aced8-42aa-4f94-9aa0-2f40b9dc99ed"
      },
      "execution_count": null,
      "outputs": [
        {
          "output_type": "stream",
          "name": "stderr",
          "text": [
            "[nltk_data] Downloading package stopwords to /root/nltk_data...\n",
            "[nltk_data]   Package stopwords is already up-to-date!\n"
          ]
        }
      ]
    },
    {
      "cell_type": "code",
      "source": [
        "#normalizamos los conjuntos de entrenamiento y test.#\n",
        "#Obtenemos en una lista el target de los conjunto de entrenamiento y test.#\n",
        "X_train = normalize(train)\n",
        "y_train = [sentiment for (words, sentiment) in train]\n",
        "X_test = normalize(test)\n",
        "y_test = [sentiment for (words, sentiment) in test]"
      ],
      "metadata": {
        "id": "0VREUpaYZ2XA"
      },
      "execution_count": null,
      "outputs": []
    },
    {
      "cell_type": "code",
      "source": [
        "from tensorflow.keras.preprocessing.text import Tokenizer\n",
        "\n",
        "\n",
        "num_words = 50\n",
        "\n",
        "# Creamos un objeto de la clase Tokenizer indicandole el número de palabras\n",
        "tokenizer = Tokenizer(num_words=num_words)\n",
        "\n",
        "# Calculamos la bolsa de palabras (generamos el vocabulario)\n",
        "tokenizer.fit_on_texts(X_train)\n",
        "\n",
        "# Creamos una matriz de bolsa de palabras donde:\n",
        "#     Fila: Representa a un documento\n",
        "#     Columna: Representa a una palabra\n",
        "X_matrix_train = tokenizer.texts_to_matrix(X_train, mode='count')\n",
        "X_matrix_test = tokenizer.texts_to_matrix(X_test, mode='count')\n",
        "\n",
        "print('Dimensión de la matriz de entrenamiento: {dim}\\n'.format(dim=X_matrix_train.shape))\n",
        "\n",
        "print('Bolsa de palabras de los datos de entrenamiento:\\n{bolsa}\\n'.format(bolsa=tokenizer.word_counts))\n",
        "\n",
        "print('Índice de las palabras en la Matriz:\\n{index}\\n'.format(index=tokenizer.word_index))\n",
        "\n",
        "print('Matriz de entrenamiento:\\n{matrix}\\n'.format(matrix=X_matrix_train))"
      ],
      "metadata": {
        "colab": {
          "base_uri": "https://localhost:8080/"
        },
        "id": "R0F7ehwvbRH_",
        "outputId": "c65b6364-9bb4-4d0a-b58c-276a4340d46f"
      },
      "execution_count": null,
      "outputs": [
        {
          "output_type": "stream",
          "name": "stdout",
          "text": [
            "Dimensión de la matriz de entrenamiento: (40, 50)\n",
            "\n",
            "Bolsa de palabras de los datos de entrenamiento:\n",
            "OrderedDict([('nueva', 1), ('ley', 1), ('beneficiará', 1), ('muchas', 1), ('familias', 1), ('corrupción', 1), ('sigue', 2), ('siendo', 1), ('problema', 2), ('grave', 1), ('candidato', 1), ('enfoque', 1), ('innovador', 1), ('desinterés', 1), ('política', 2), ('alarmante', 1), ('participación', 2), ('ciudadana', 3), ('fundamental', 1), ('democracia', 3), ('falta', 3), ('transparencia', 1), ('gobierno', 3), ('inaceptable', 1), ('trabajando', 1), ('mejorar', 1), ('educación', 2), ('promesas', 1), ('electorales', 1), ('cumplen', 1), ('avanzando', 1), ('hacia', 1), ('futuro', 1), ('sostenible', 1), ('violencia', 1), ('aumento', 2), ('comunidad', 2), ('cambio', 2), ('desigualdad', 1), ('social', 1), ('agrava', 1), ('reformas', 1), ('propuestas', 1), ('prometedoras', 1), ('derechos', 3), ('humanos', 1), ('violados', 1), ('constantemente', 1), ('diálogo', 2), ('clave', 1), ('resolver', 1), ('conflictos', 1), ('acceso', 2), ('justicia', 2), ('limitado', 1), ('igualdad', 2), ('objetivo', 1), ('alcanzable', 1), ('políticas', 1), ('austeridad', 1), ('afectan', 1), ('vulnerables', 1), ('iniciativas', 1), ('salud', 2), ('pública', 3), ('gran', 1), ('paso', 1), ('adelante', 1), ('partidos', 1), ('preocupante', 2), ('encanta', 1), ('energía', 1), ('ciudad', 1), ('desinformación', 1), ('afecta', 1), ('rendición', 1), ('cuentas', 1), ('genera', 1), ('confianza', 1), ('minorías', 1), ('ignorados', 1), ('cultura', 1), ('pilares', 1), ('identidad', 1), ('represión', 1), ('oposición', 1), ('hecho', 1), ('innovación', 1), ('tecnológica', 1), ('puede', 1), ('transformar', 1), ('sociedad', 1), ('desempleo', 1), ('seguridad', 1), ('mejorado', 1), ('calidad', 1), ('disminuido', 1), ('comprometida', 1), ('infraestructura', 1), ('información', 1), ('fortalece', 1), ('protección', 1), ('ambiente', 1), ('responsabilidad', 1), ('colectiva', 1), ('recibe', 1), ('atención', 1), ('necesaria', 1), ('promoción', 1), ('género', 1), ('avance', 1), ('impunidad', 1), ('persistente', 1), ('compromiso', 1), ('valor', 1), ('compartido', 1), ('decisiones', 1), ('toman', 1), ('consultar', 1), ('ciudadanía', 1)])\n",
            "\n",
            "Índice de las palabras en la Matriz:\n",
            "{'ciudadana': 1, 'democracia': 2, 'falta': 3, 'gobierno': 4, 'derechos': 5, 'pública': 6, 'sigue': 7, 'problema': 8, 'política': 9, 'participación': 10, 'educación': 11, 'aumento': 12, 'comunidad': 13, 'cambio': 14, 'diálogo': 15, 'acceso': 16, 'justicia': 17, 'igualdad': 18, 'salud': 19, 'preocupante': 20, 'nueva': 21, 'ley': 22, 'beneficiará': 23, 'muchas': 24, 'familias': 25, 'corrupción': 26, 'siendo': 27, 'grave': 28, 'candidato': 29, 'enfoque': 30, 'innovador': 31, 'desinterés': 32, 'alarmante': 33, 'fundamental': 34, 'transparencia': 35, 'inaceptable': 36, 'trabajando': 37, 'mejorar': 38, 'promesas': 39, 'electorales': 40, 'cumplen': 41, 'avanzando': 42, 'hacia': 43, 'futuro': 44, 'sostenible': 45, 'violencia': 46, 'desigualdad': 47, 'social': 48, 'agrava': 49, 'reformas': 50, 'propuestas': 51, 'prometedoras': 52, 'humanos': 53, 'violados': 54, 'constantemente': 55, 'clave': 56, 'resolver': 57, 'conflictos': 58, 'limitado': 59, 'objetivo': 60, 'alcanzable': 61, 'políticas': 62, 'austeridad': 63, 'afectan': 64, 'vulnerables': 65, 'iniciativas': 66, 'gran': 67, 'paso': 68, 'adelante': 69, 'partidos': 70, 'encanta': 71, 'energía': 72, 'ciudad': 73, 'desinformación': 74, 'afecta': 75, 'rendición': 76, 'cuentas': 77, 'genera': 78, 'confianza': 79, 'minorías': 80, 'ignorados': 81, 'cultura': 82, 'pilares': 83, 'identidad': 84, 'represión': 85, 'oposición': 86, 'hecho': 87, 'innovación': 88, 'tecnológica': 89, 'puede': 90, 'transformar': 91, 'sociedad': 92, 'desempleo': 93, 'seguridad': 94, 'mejorado': 95, 'calidad': 96, 'disminuido': 97, 'comprometida': 98, 'infraestructura': 99, 'información': 100, 'fortalece': 101, 'protección': 102, 'ambiente': 103, 'responsabilidad': 104, 'colectiva': 105, 'recibe': 106, 'atención': 107, 'necesaria': 108, 'promoción': 109, 'género': 110, 'avance': 111, 'impunidad': 112, 'persistente': 113, 'compromiso': 114, 'valor': 115, 'compartido': 116, 'decisiones': 117, 'toman': 118, 'consultar': 119, 'ciudadanía': 120}\n",
            "\n",
            "Matriz de entrenamiento:\n",
            "[[0. 0. 0. ... 0. 0. 0.]\n",
            " [0. 0. 0. ... 0. 0. 0.]\n",
            " [0. 0. 0. ... 0. 0. 0.]\n",
            " ...\n",
            " [0. 0. 0. ... 0. 0. 0.]\n",
            " [0. 0. 0. ... 0. 0. 0.]\n",
            " [0. 0. 0. ... 0. 0. 0.]]\n",
            "\n"
          ]
        }
      ]
    },
    {
      "cell_type": "code",
      "source": [
        "#LabelEncoder para codificar la salida. Negativo: 0 positivo: 1\n",
        "\n",
        "from sklearn.preprocessing import LabelEncoder\n",
        "\n",
        "encoder = LabelEncoder()\n",
        "encoder.fit(y_train)\n",
        "y_train = encoder.transform(y_train)\n",
        "y_test = encoder.transform(y_test)\n",
        "y_train"
      ],
      "metadata": {
        "colab": {
          "base_uri": "https://localhost:8080/"
        },
        "id": "LUCQSWBgeI3G",
        "outputId": "e4d85115-6790-4808-a03f-1d4401ca0229"
      },
      "execution_count": null,
      "outputs": [
        {
          "output_type": "execute_result",
          "data": {
            "text/plain": [
              "array([1, 0, 1, 0, 1, 0, 1, 0, 1, 0, 1, 0, 1, 0, 1, 0, 1, 0, 1, 0, 1, 0,\n",
              "       1, 0, 1, 0, 1, 0, 1, 0, 1, 0, 1, 0, 1, 0, 1, 0, 1, 0])"
            ]
          },
          "metadata": {},
          "execution_count": 57
        }
      ]
    },
    {
      "cell_type": "code",
      "source": [
        "#Estructura de la Red Neuronal#\n",
        "\n",
        "import numpy as np\n",
        "from tensorflow.keras.models import Sequential\n",
        "from tensorflow.keras.layers import Dense, Dropout\n",
        "from tensorflow.keras import metrics\n",
        "\n",
        "np.random.seed(2)\n",
        "model = Sequential()\n",
        "model.add(Dense(20, activation='relu', input_dim=num_words))\n",
        "model.add(Dropout(0.1))\n",
        "model.add(Dense(5, activation='relu'))\n",
        "model.add(Dropout(0.1))\n",
        "model.add(Dense(1, activation='sigmoid'))\n",
        "model.compile(loss='binary_crossentropy', optimizer='adam', metrics=['accuracy'])"
      ],
      "metadata": {
        "id": "HpDc6xP2e0oR"
      },
      "execution_count": null,
      "outputs": []
    },
    {
      "cell_type": "code",
      "source": [
        "model.summary()"
      ],
      "metadata": {
        "colab": {
          "base_uri": "https://localhost:8080/",
          "height": 306
        },
        "id": "ssD-Y1vuflFK",
        "outputId": "a631cbf7-75cd-4bd3-f58e-67212de8b9d4"
      },
      "execution_count": null,
      "outputs": [
        {
          "output_type": "display_data",
          "data": {
            "text/plain": [
              "\u001b[1mModel: \"sequential_1\"\u001b[0m\n"
            ],
            "text/html": [
              "<pre style=\"white-space:pre;overflow-x:auto;line-height:normal;font-family:Menlo,'DejaVu Sans Mono',consolas,'Courier New',monospace\"><span style=\"font-weight: bold\">Model: \"sequential_1\"</span>\n",
              "</pre>\n"
            ]
          },
          "metadata": {}
        },
        {
          "output_type": "display_data",
          "data": {
            "text/plain": [
              "┏━━━━━━━━━━━━━━━━━━━━━━━━━━━━━━━━━━━━━━┳━━━━━━━━━━━━━━━━━━━━━━━━━━━━━┳━━━━━━━━━━━━━━━━━┓\n",
              "┃\u001b[1m \u001b[0m\u001b[1mLayer (type)                        \u001b[0m\u001b[1m \u001b[0m┃\u001b[1m \u001b[0m\u001b[1mOutput Shape               \u001b[0m\u001b[1m \u001b[0m┃\u001b[1m \u001b[0m\u001b[1m        Param #\u001b[0m\u001b[1m \u001b[0m┃\n",
              "┡━━━━━━━━━━━━━━━━━━━━━━━━━━━━━━━━━━━━━━╇━━━━━━━━━━━━━━━━━━━━━━━━━━━━━╇━━━━━━━━━━━━━━━━━┩\n",
              "│ dense_3 (\u001b[38;5;33mDense\u001b[0m)                      │ (\u001b[38;5;45mNone\u001b[0m, \u001b[38;5;34m20\u001b[0m)                  │           \u001b[38;5;34m1,020\u001b[0m │\n",
              "├──────────────────────────────────────┼─────────────────────────────┼─────────────────┤\n",
              "│ dropout_2 (\u001b[38;5;33mDropout\u001b[0m)                  │ (\u001b[38;5;45mNone\u001b[0m, \u001b[38;5;34m20\u001b[0m)                  │               \u001b[38;5;34m0\u001b[0m │\n",
              "├──────────────────────────────────────┼─────────────────────────────┼─────────────────┤\n",
              "│ dense_4 (\u001b[38;5;33mDense\u001b[0m)                      │ (\u001b[38;5;45mNone\u001b[0m, \u001b[38;5;34m5\u001b[0m)                   │             \u001b[38;5;34m105\u001b[0m │\n",
              "├──────────────────────────────────────┼─────────────────────────────┼─────────────────┤\n",
              "│ dropout_3 (\u001b[38;5;33mDropout\u001b[0m)                  │ (\u001b[38;5;45mNone\u001b[0m, \u001b[38;5;34m5\u001b[0m)                   │               \u001b[38;5;34m0\u001b[0m │\n",
              "├──────────────────────────────────────┼─────────────────────────────┼─────────────────┤\n",
              "│ dense_5 (\u001b[38;5;33mDense\u001b[0m)                      │ (\u001b[38;5;45mNone\u001b[0m, \u001b[38;5;34m1\u001b[0m)                   │               \u001b[38;5;34m6\u001b[0m │\n",
              "└──────────────────────────────────────┴─────────────────────────────┴─────────────────┘\n"
            ],
            "text/html": [
              "<pre style=\"white-space:pre;overflow-x:auto;line-height:normal;font-family:Menlo,'DejaVu Sans Mono',consolas,'Courier New',monospace\">┏━━━━━━━━━━━━━━━━━━━━━━━━━━━━━━━━━━━━━━┳━━━━━━━━━━━━━━━━━━━━━━━━━━━━━┳━━━━━━━━━━━━━━━━━┓\n",
              "┃<span style=\"font-weight: bold\"> Layer (type)                         </span>┃<span style=\"font-weight: bold\"> Output Shape                </span>┃<span style=\"font-weight: bold\">         Param # </span>┃\n",
              "┡━━━━━━━━━━━━━━━━━━━━━━━━━━━━━━━━━━━━━━╇━━━━━━━━━━━━━━━━━━━━━━━━━━━━━╇━━━━━━━━━━━━━━━━━┩\n",
              "│ dense_3 (<span style=\"color: #0087ff; text-decoration-color: #0087ff\">Dense</span>)                      │ (<span style=\"color: #00d7ff; text-decoration-color: #00d7ff\">None</span>, <span style=\"color: #00af00; text-decoration-color: #00af00\">20</span>)                  │           <span style=\"color: #00af00; text-decoration-color: #00af00\">1,020</span> │\n",
              "├──────────────────────────────────────┼─────────────────────────────┼─────────────────┤\n",
              "│ dropout_2 (<span style=\"color: #0087ff; text-decoration-color: #0087ff\">Dropout</span>)                  │ (<span style=\"color: #00d7ff; text-decoration-color: #00d7ff\">None</span>, <span style=\"color: #00af00; text-decoration-color: #00af00\">20</span>)                  │               <span style=\"color: #00af00; text-decoration-color: #00af00\">0</span> │\n",
              "├──────────────────────────────────────┼─────────────────────────────┼─────────────────┤\n",
              "│ dense_4 (<span style=\"color: #0087ff; text-decoration-color: #0087ff\">Dense</span>)                      │ (<span style=\"color: #00d7ff; text-decoration-color: #00d7ff\">None</span>, <span style=\"color: #00af00; text-decoration-color: #00af00\">5</span>)                   │             <span style=\"color: #00af00; text-decoration-color: #00af00\">105</span> │\n",
              "├──────────────────────────────────────┼─────────────────────────────┼─────────────────┤\n",
              "│ dropout_3 (<span style=\"color: #0087ff; text-decoration-color: #0087ff\">Dropout</span>)                  │ (<span style=\"color: #00d7ff; text-decoration-color: #00d7ff\">None</span>, <span style=\"color: #00af00; text-decoration-color: #00af00\">5</span>)                   │               <span style=\"color: #00af00; text-decoration-color: #00af00\">0</span> │\n",
              "├──────────────────────────────────────┼─────────────────────────────┼─────────────────┤\n",
              "│ dense_5 (<span style=\"color: #0087ff; text-decoration-color: #0087ff\">Dense</span>)                      │ (<span style=\"color: #00d7ff; text-decoration-color: #00d7ff\">None</span>, <span style=\"color: #00af00; text-decoration-color: #00af00\">1</span>)                   │               <span style=\"color: #00af00; text-decoration-color: #00af00\">6</span> │\n",
              "└──────────────────────────────────────┴─────────────────────────────┴─────────────────┘\n",
              "</pre>\n"
            ]
          },
          "metadata": {}
        },
        {
          "output_type": "display_data",
          "data": {
            "text/plain": [
              "\u001b[1m Total params: \u001b[0m\u001b[38;5;34m1,131\u001b[0m (4.42 KB)\n"
            ],
            "text/html": [
              "<pre style=\"white-space:pre;overflow-x:auto;line-height:normal;font-family:Menlo,'DejaVu Sans Mono',consolas,'Courier New',monospace\"><span style=\"font-weight: bold\"> Total params: </span><span style=\"color: #00af00; text-decoration-color: #00af00\">1,131</span> (4.42 KB)\n",
              "</pre>\n"
            ]
          },
          "metadata": {}
        },
        {
          "output_type": "display_data",
          "data": {
            "text/plain": [
              "\u001b[1m Trainable params: \u001b[0m\u001b[38;5;34m1,131\u001b[0m (4.42 KB)\n"
            ],
            "text/html": [
              "<pre style=\"white-space:pre;overflow-x:auto;line-height:normal;font-family:Menlo,'DejaVu Sans Mono',consolas,'Courier New',monospace\"><span style=\"font-weight: bold\"> Trainable params: </span><span style=\"color: #00af00; text-decoration-color: #00af00\">1,131</span> (4.42 KB)\n",
              "</pre>\n"
            ]
          },
          "metadata": {}
        },
        {
          "output_type": "display_data",
          "data": {
            "text/plain": [
              "\u001b[1m Non-trainable params: \u001b[0m\u001b[38;5;34m0\u001b[0m (0.00 B)\n"
            ],
            "text/html": [
              "<pre style=\"white-space:pre;overflow-x:auto;line-height:normal;font-family:Menlo,'DejaVu Sans Mono',consolas,'Courier New',monospace\"><span style=\"font-weight: bold\"> Non-trainable params: </span><span style=\"color: #00af00; text-decoration-color: #00af00\">0</span> (0.00 B)\n",
              "</pre>\n"
            ]
          },
          "metadata": {}
        }
      ]
    },
    {
      "cell_type": "code",
      "source": [
        "#Entrenamos a la Red#\n",
        "model.fit(X_matrix_train, y_train, batch_size=1, epochs=50, verbose=2, validation_split=0.1)"
      ],
      "metadata": {
        "colab": {
          "base_uri": "https://localhost:8080/"
        },
        "id": "-XDHD7XMf09U",
        "outputId": "98b7461f-ba0a-4f43-d839-d55953920206"
      },
      "execution_count": null,
      "outputs": [
        {
          "output_type": "stream",
          "name": "stdout",
          "text": [
            "Epoch 1/50\n",
            "36/36 - 2s - 54ms/step - accuracy: 0.6111 - loss: 0.6709 - val_accuracy: 0.7500 - val_loss: 0.6750\n",
            "Epoch 2/50\n",
            "36/36 - 0s - 12ms/step - accuracy: 0.6111 - loss: 0.6766 - val_accuracy: 0.7500 - val_loss: 0.6793\n",
            "Epoch 3/50\n",
            "36/36 - 0s - 6ms/step - accuracy: 0.6944 - loss: 0.6589 - val_accuracy: 0.7500 - val_loss: 0.6792\n",
            "Epoch 4/50\n",
            "36/36 - 0s - 4ms/step - accuracy: 0.7222 - loss: 0.6474 - val_accuracy: 0.7500 - val_loss: 0.6780\n",
            "Epoch 5/50\n",
            "36/36 - 0s - 3ms/step - accuracy: 0.6944 - loss: 0.6597 - val_accuracy: 0.7500 - val_loss: 0.6747\n",
            "Epoch 6/50\n",
            "36/36 - 0s - 3ms/step - accuracy: 0.8056 - loss: 0.6265 - val_accuracy: 0.7500 - val_loss: 0.6750\n",
            "Epoch 7/50\n",
            "36/36 - 0s - 3ms/step - accuracy: 0.7778 - loss: 0.6216 - val_accuracy: 0.7500 - val_loss: 0.6732\n",
            "Epoch 8/50\n",
            "36/36 - 0s - 4ms/step - accuracy: 0.8611 - loss: 0.6058 - val_accuracy: 0.7500 - val_loss: 0.6683\n",
            "Epoch 9/50\n",
            "36/36 - 0s - 3ms/step - accuracy: 0.7778 - loss: 0.6019 - val_accuracy: 0.7500 - val_loss: 0.6625\n",
            "Epoch 10/50\n",
            "36/36 - 0s - 4ms/step - accuracy: 0.8611 - loss: 0.5819 - val_accuracy: 0.7500 - val_loss: 0.6595\n",
            "Epoch 11/50\n",
            "36/36 - 0s - 4ms/step - accuracy: 0.8889 - loss: 0.5523 - val_accuracy: 0.7500 - val_loss: 0.6537\n",
            "Epoch 12/50\n",
            "36/36 - 0s - 4ms/step - accuracy: 0.8056 - loss: 0.5721 - val_accuracy: 0.7500 - val_loss: 0.6532\n",
            "Epoch 13/50\n",
            "36/36 - 0s - 4ms/step - accuracy: 0.8333 - loss: 0.5581 - val_accuracy: 0.7500 - val_loss: 0.6490\n",
            "Epoch 14/50\n",
            "36/36 - 0s - 4ms/step - accuracy: 0.7778 - loss: 0.5335 - val_accuracy: 0.7500 - val_loss: 0.6471\n",
            "Epoch 15/50\n",
            "36/36 - 0s - 4ms/step - accuracy: 0.8056 - loss: 0.5107 - val_accuracy: 0.7500 - val_loss: 0.6463\n",
            "Epoch 16/50\n",
            "36/36 - 0s - 3ms/step - accuracy: 0.8056 - loss: 0.4840 - val_accuracy: 0.7500 - val_loss: 0.6434\n",
            "Epoch 17/50\n",
            "36/36 - 0s - 4ms/step - accuracy: 0.8889 - loss: 0.4726 - val_accuracy: 0.7500 - val_loss: 0.6482\n",
            "Epoch 18/50\n",
            "36/36 - 0s - 4ms/step - accuracy: 0.8333 - loss: 0.4442 - val_accuracy: 0.7500 - val_loss: 0.6479\n",
            "Epoch 19/50\n",
            "36/36 - 0s - 4ms/step - accuracy: 0.8611 - loss: 0.4028 - val_accuracy: 0.7500 - val_loss: 0.6449\n",
            "Epoch 20/50\n",
            "36/36 - 0s - 4ms/step - accuracy: 0.8333 - loss: 0.4448 - val_accuracy: 0.7500 - val_loss: 0.6450\n",
            "Epoch 21/50\n",
            "36/36 - 0s - 4ms/step - accuracy: 0.8611 - loss: 0.4137 - val_accuracy: 0.7500 - val_loss: 0.6456\n",
            "Epoch 22/50\n",
            "36/36 - 0s - 4ms/step - accuracy: 0.8611 - loss: 0.3806 - val_accuracy: 0.5000 - val_loss: 0.6469\n",
            "Epoch 23/50\n",
            "36/36 - 0s - 4ms/step - accuracy: 0.7778 - loss: 0.3787 - val_accuracy: 0.5000 - val_loss: 0.6559\n",
            "Epoch 24/50\n",
            "36/36 - 0s - 4ms/step - accuracy: 0.8889 - loss: 0.3723 - val_accuracy: 0.5000 - val_loss: 0.6676\n",
            "Epoch 25/50\n",
            "36/36 - 0s - 4ms/step - accuracy: 0.8889 - loss: 0.2941 - val_accuracy: 0.5000 - val_loss: 0.6739\n",
            "Epoch 26/50\n",
            "36/36 - 0s - 4ms/step - accuracy: 0.8889 - loss: 0.3590 - val_accuracy: 0.5000 - val_loss: 0.6853\n",
            "Epoch 27/50\n",
            "36/36 - 0s - 3ms/step - accuracy: 0.8611 - loss: 0.3373 - val_accuracy: 0.5000 - val_loss: 0.6882\n",
            "Epoch 28/50\n",
            "36/36 - 0s - 3ms/step - accuracy: 0.8889 - loss: 0.2998 - val_accuracy: 0.5000 - val_loss: 0.7032\n",
            "Epoch 29/50\n",
            "36/36 - 0s - 4ms/step - accuracy: 0.8333 - loss: 0.3052 - val_accuracy: 0.5000 - val_loss: 0.7131\n",
            "Epoch 30/50\n",
            "36/36 - 0s - 3ms/step - accuracy: 0.8889 - loss: 0.3351 - val_accuracy: 0.5000 - val_loss: 0.7202\n",
            "Epoch 31/50\n",
            "36/36 - 0s - 4ms/step - accuracy: 0.9444 - loss: 0.2685 - val_accuracy: 0.5000 - val_loss: 0.7230\n",
            "Epoch 32/50\n",
            "36/36 - 0s - 3ms/step - accuracy: 0.9444 - loss: 0.2743 - val_accuracy: 0.5000 - val_loss: 0.7537\n",
            "Epoch 33/50\n",
            "36/36 - 0s - 4ms/step - accuracy: 0.9167 - loss: 0.2664 - val_accuracy: 0.5000 - val_loss: 0.7650\n",
            "Epoch 34/50\n",
            "36/36 - 0s - 4ms/step - accuracy: 0.8889 - loss: 0.2761 - val_accuracy: 0.5000 - val_loss: 0.7808\n",
            "Epoch 35/50\n",
            "36/36 - 0s - 3ms/step - accuracy: 0.8333 - loss: 0.3288 - val_accuracy: 0.5000 - val_loss: 0.7857\n",
            "Epoch 36/50\n",
            "36/36 - 0s - 4ms/step - accuracy: 0.8611 - loss: 0.2924 - val_accuracy: 0.5000 - val_loss: 0.8011\n",
            "Epoch 37/50\n",
            "36/36 - 0s - 3ms/step - accuracy: 0.8889 - loss: 0.2697 - val_accuracy: 0.5000 - val_loss: 0.7990\n",
            "Epoch 38/50\n",
            "36/36 - 0s - 3ms/step - accuracy: 0.9167 - loss: 0.2454 - val_accuracy: 0.5000 - val_loss: 0.8240\n",
            "Epoch 39/50\n",
            "36/36 - 0s - 3ms/step - accuracy: 0.9167 - loss: 0.2435 - val_accuracy: 0.5000 - val_loss: 0.8389\n",
            "Epoch 40/50\n",
            "36/36 - 0s - 3ms/step - accuracy: 0.9167 - loss: 0.2551 - val_accuracy: 0.5000 - val_loss: 0.8461\n",
            "Epoch 41/50\n",
            "36/36 - 0s - 3ms/step - accuracy: 0.9167 - loss: 0.2325 - val_accuracy: 0.5000 - val_loss: 0.8505\n",
            "Epoch 42/50\n",
            "36/36 - 0s - 3ms/step - accuracy: 0.9444 - loss: 0.2600 - val_accuracy: 0.5000 - val_loss: 0.8676\n",
            "Epoch 43/50\n",
            "36/36 - 0s - 3ms/step - accuracy: 0.8889 - loss: 0.2118 - val_accuracy: 0.5000 - val_loss: 0.8782\n",
            "Epoch 44/50\n",
            "36/36 - 0s - 4ms/step - accuracy: 0.9444 - loss: 0.2057 - val_accuracy: 0.5000 - val_loss: 0.8890\n",
            "Epoch 45/50\n",
            "36/36 - 0s - 4ms/step - accuracy: 0.8889 - loss: 0.2481 - val_accuracy: 0.5000 - val_loss: 0.8899\n",
            "Epoch 46/50\n",
            "36/36 - 0s - 3ms/step - accuracy: 0.8889 - loss: 0.2410 - val_accuracy: 0.5000 - val_loss: 0.9054\n",
            "Epoch 47/50\n",
            "36/36 - 0s - 4ms/step - accuracy: 0.8889 - loss: 0.2685 - val_accuracy: 0.5000 - val_loss: 0.9362\n",
            "Epoch 48/50\n",
            "36/36 - 0s - 4ms/step - accuracy: 0.8889 - loss: 0.2401 - val_accuracy: 0.5000 - val_loss: 0.9434\n",
            "Epoch 49/50\n",
            "36/36 - 0s - 3ms/step - accuracy: 0.9167 - loss: 0.2207 - val_accuracy: 0.5000 - val_loss: 0.9666\n",
            "Epoch 50/50\n",
            "36/36 - 0s - 4ms/step - accuracy: 0.8611 - loss: 0.2196 - val_accuracy: 0.5000 - val_loss: 0.9777\n"
          ]
        },
        {
          "output_type": "execute_result",
          "data": {
            "text/plain": [
              "<keras.src.callbacks.history.History at 0x7f596bb87ee0>"
            ]
          },
          "metadata": {},
          "execution_count": 60
        }
      ]
    },
    {
      "cell_type": "code",
      "source": [
        "# Evaluación del modelo con los mismos datos de entrenamiento\n",
        "scores = model.evaluate(X_matrix_test, y_test)\n",
        "print(\"Porcentaje acierto: %s: %.2f%%\" % (model.metrics_names[1], scores[1] * 100))"
      ],
      "metadata": {
        "colab": {
          "base_uri": "https://localhost:8080/"
        },
        "id": "dZm9JjusgDk6",
        "outputId": "435cdd35-b775-4d29-d46f-a0d12c44e9ea"
      },
      "execution_count": null,
      "outputs": [
        {
          "output_type": "stream",
          "name": "stdout",
          "text": [
            "\u001b[1m1/1\u001b[0m \u001b[32m━━━━━━━━━━━━━━━━━━━━\u001b[0m\u001b[37m\u001b[0m \u001b[1m0s\u001b[0m 202ms/step - accuracy: 0.7000 - loss: 0.7415\n",
            "Porcentaje acierto: compile_metrics: 70.00%\n"
          ]
        }
      ]
    },
    {
      "cell_type": "code",
      "source": [
        "predict = model.predict(X_matrix_test)\n",
        "print(predict)"
      ],
      "metadata": {
        "colab": {
          "base_uri": "https://localhost:8080/"
        },
        "id": "lxeVejmOgYGQ",
        "outputId": "f5f05f86-c203-4c22-842c-4d88679b41b3"
      },
      "execution_count": null,
      "outputs": [
        {
          "output_type": "stream",
          "name": "stdout",
          "text": [
            "\u001b[1m1/1\u001b[0m \u001b[32m━━━━━━━━━━━━━━━━━━━━\u001b[0m\u001b[37m\u001b[0m \u001b[1m0s\u001b[0m 52ms/step\n",
            "[[0.12990518]\n",
            " [0.0130732 ]\n",
            " [0.6810237 ]\n",
            " [0.01300093]\n",
            " [0.6771781 ]\n",
            " [0.14039677]\n",
            " [0.6771781 ]\n",
            " [0.6771781 ]\n",
            " [0.06467453]\n",
            " [0.15114671]]\n"
          ]
        }
      ]
    },
    {
      "cell_type": "code",
      "source": [
        "# Predecimos los resultados del conjunto de test\n",
        "y_predict = np.where(model.predict(X_matrix_test) > 0.5, 1, 0)\n",
        "for index, prediction in enumerate(y_predict):\n",
        "    text = test[index][0]\n",
        "    y_true = test[index][1]\n",
        "    y_predict = encoder.inverse_transform(prediction)\n",
        "    print('{i} - {text} \\n\\t Real: {y_true} - Predicción: {y_predict} - Acierto: {acierto}'\n",
        "          .format(i=index, text=text, y_true=y_true, y_predict=y_predict[0], acierto = y_true==y_predict[0]))"
      ],
      "metadata": {
        "colab": {
          "base_uri": "https://localhost:8080/"
        },
        "id": "sLXmUOXCge_Z",
        "outputId": "9f2a665c-f54a-43b3-db5b-d398b4bd885a"
      },
      "execution_count": null,
      "outputs": [
        {
          "output_type": "stream",
          "name": "stdout",
          "text": [
            "\u001b[1m1/1\u001b[0m \u001b[32m━━━━━━━━━━━━━━━━━━━━\u001b[0m\u001b[37m\u001b[0m \u001b[1m0s\u001b[0m 20ms/step\n",
            "0 - El nuevo programa social tiene un gran impacto \n",
            "\t Real: positivo - Predicción: negativo - Acierto: False\n",
            "1 - La falta de recursos para la salud pública es alarmante \n",
            "\t Real: negativo - Predicción: negativo - Acierto: True\n",
            "2 - La inversión en infraestructura beneficiará a todos \n",
            "\t Real: positivo - Predicción: positivo - Acierto: True\n",
            "3 - La falta de confianza en las instituciones es preocupante \n",
            "\t Real: negativo - Predicción: negativo - Acierto: True\n",
            "4 - La cooperación internacional es esencial para la paz \n",
            "\t Real: positivo - Predicción: positivo - Acierto: True\n",
            "5 - Las decisiones se toman sin transparencia \n",
            "\t Real: negativo - Predicción: negativo - Acierto: True\n",
            "6 - Las políticas de inclusión son fundamentales \n",
            "\t Real: positivo - Predicción: positivo - Acierto: True\n",
            "7 - Los ciudadanos sienten que su voz no es escuchada \n",
            "\t Real: negativo - Predicción: positivo - Acierto: False\n",
            "8 - La educación accesible es un derecho \n",
            "\t Real: positivo - Predicción: negativo - Acierto: False\n",
            "9 - La política se ha vuelto un campo de confrontación \n",
            "\t Real: negativo - Predicción: negativo - Acierto: True\n"
          ]
        }
      ]
    },
    {
      "cell_type": "code",
      "source": [
        "\n",
        "# Ejemplo de entrada de texto para probar el modelo\n",
        "new_text = input (\"Ingresa una frase:\\n\")\n",
        "\n",
        "# Normalizar el nuevo texto\n",
        "from nltk.corpus import stopwords\n",
        "import re\n",
        "\n",
        "def normalize_text(text):\n",
        "    words_filtered = []\n",
        "    for word in text.split():\n",
        "      word = re.sub(r'[^\\w\\s]', '', word).lower()\n",
        "      if len(word) > 2 and word not in stopwords.words('spanish'):\n",
        "          words_filtered.append(word)\n",
        "    return words_filtered\n",
        "\n",
        "normalized_text = normalize_text(new_text)\n",
        "\n",
        "\n",
        "# Convertir el texto normalizado a una matriz de bolsa de palabras\n",
        "X_new_matrix = tokenizer.texts_to_matrix([normalized_text], mode='count')\n",
        "\n",
        "# Predecir la clase del nuevo texto\n",
        "prediction = np.where(model.predict(X_new_matrix) > 0.5, 1, 0)\n",
        "predicted_sentiment = encoder.inverse_transform(prediction)\n",
        "\n",
        "# Imprimir la predicción\n",
        "print(f\"Texto: {new_text}\")\n",
        "print(f\"Sentimiento predicho: {predicted_sentiment[0]}\")"
      ],
      "metadata": {
        "colab": {
          "base_uri": "https://localhost:8080/"
        },
        "id": "K6TBH3dZrKtd",
        "outputId": "049897a5-2973-4fef-cc4b-29023778a4b9"
      },
      "execution_count": null,
      "outputs": [
        {
          "output_type": "stream",
          "name": "stdout",
          "text": [
            "Ingresa una frase:\n",
            "Los derechos civiles son constantemente amenazados\n",
            "\u001b[1m1/1\u001b[0m \u001b[32m━━━━━━━━━━━━━━━━━━━━\u001b[0m\u001b[37m\u001b[0m \u001b[1m0s\u001b[0m 31ms/step\n",
            "Texto: Los derechos civiles son constantemente amenazados\n",
            "Sentimiento predicho: negativo\n"
          ]
        }
      ]
    },
    {
      "cell_type": "markdown",
      "source": [],
      "metadata": {
        "id": "5qc994Vi3L9H"
      }
    },
    {
      "cell_type": "code",
      "source": [
        "model.save(\"PNL_Clasificación_textos.keras\")"
      ],
      "metadata": {
        "id": "arJw5bUjc2rf"
      },
      "execution_count": null,
      "outputs": []
    }
  ]
}